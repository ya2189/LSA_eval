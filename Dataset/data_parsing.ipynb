{
 "cells": [
  {
   "cell_type": "code",
   "execution_count": 22,
   "id": "fafed924",
   "metadata": {},
   "outputs": [],
   "source": [
    "import pandas as pd\n",
    "\n",
    "human_data_file = pd.read_csv(\"experiment1c_counts.csv\")\n",
    "\n",
    "with open(\"words.txt\", 'w') as new_file:\n",
    "    for i in range(len(human_data_file[\"prompt\"])):\n",
    "        new_file.write(human_data_file[\"prompt_w1\"][i] + \" \")\n",
    "        new_file.write(human_data_file[\"prompt_w2\"][i] + \" \")\n",
    "        new_file.write(human_data_file[\"prompt_w3\"][i] + \" \")\n",
    "        \n",
    "        for r in human_data_file.columns[4:]:\n",
    "            if human_data_file[r][i] > 0:\n",
    "                new_file.write(r + \" \")\n",
    "        new_file.write(\"\\n\")\n",
    "  \n",
    "    new_file.close()\n",
    "\n"
   ]
  },
  {
   "cell_type": "code",
   "execution_count": null,
   "id": "c918ec6f",
   "metadata": {},
   "outputs": [],
   "source": []
  }
 ],
 "metadata": {
  "kernelspec": {
   "display_name": "Python 3 (ipykernel)",
   "language": "python",
   "name": "python3"
  },
  "language_info": {
   "codemirror_mode": {
    "name": "ipython",
    "version": 3
   },
   "file_extension": ".py",
   "mimetype": "text/x-python",
   "name": "python",
   "nbconvert_exporter": "python",
   "pygments_lexer": "ipython3",
   "version": "3.10.4"
  }
 },
 "nbformat": 4,
 "nbformat_minor": 5
}
