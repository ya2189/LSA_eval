{
 "cells": [
  {
   "cell_type": "markdown",
   "id": "68e0d230",
   "metadata": {},
   "source": [
    "#### Distance Metrics to be Tested\n",
    "\n",
    "1. Cosine \n",
    "2. Euclidean\n",
    "3. Yule\n",
    "\n",
    "(Sokanichener - Doubtful)"
   ]
  },
  {
   "cell_type": "code",
   "execution_count": 1,
   "id": "a5675d3c",
   "metadata": {},
   "outputs": [
    {
     "data": {
      "text/plain": [
       "'Required Libraries (uncomment for installation)'"
      ]
     },
     "execution_count": 1,
     "metadata": {},
     "output_type": "execute_result"
    }
   ],
   "source": [
    "'''Required Libraries (uncomment for installation)'''\n",
    "\n",
    "# !pip install pandas\n",
    "# !pip install numpy\n",
    "# !pip install scipy"
   ]
  },
  {
   "cell_type": "code",
   "execution_count": 2,
   "id": "86333879",
   "metadata": {},
   "outputs": [],
   "source": [
    "'''Importing Libraries'''\n",
    "\n",
    "import os\n",
    "import pandas as pd\n",
    "import numpy as np\n",
    "from scipy.spatial import distance"
   ]
  },
  {
   "cell_type": "markdown",
   "id": "db5b2335",
   "metadata": {},
   "source": [
    "#### Initializing Word Vector"
   ]
  },
  {
   "cell_type": "code",
   "execution_count": 3,
   "id": "9118c1a6",
   "metadata": {},
   "outputs": [],
   "source": [
    "'''Paring Files to convert to word vectors'''\n",
    "\n",
    "def parse_file(file_name):\n",
    "    word_vectors = {}\n",
    "    \n",
    "    with open(file_name) as f:\n",
    "        for line in f:\n",
    "            first_whitespace = line.index(\" \")\n",
    "            word = line[:first_whitespace].strip('\"')\n",
    "            vector = np.array(line[first_whitespace + 1:].split(\" \"), dtype=np.float32)\n",
    "            word_vectors[word] = vector\n",
    "            \n",
    "    return word_vectors"
   ]
  },
  {
   "cell_type": "code",
   "execution_count": 4,
   "id": "038962c6",
   "metadata": {},
   "outputs": [],
   "source": [
    "'''\n",
    "Defining the parth to trained LSA Model\n",
    "'''\n",
    "\n",
    "path = \"EN_100k_lsa.txt\"\n",
    "dict_word_vectors = parse_file(path)"
   ]
  },
  {
   "cell_type": "markdown",
   "id": "6722c566",
   "metadata": {},
   "source": [
    "#### Distance Calculations"
   ]
  },
  {
   "cell_type": "code",
   "execution_count": 5,
   "id": "b6c8ce01",
   "metadata": {},
   "outputs": [],
   "source": [
    "'''\n",
    "Calculating Ditance Metrics\n",
    "'''\n",
    "\n",
    "def after_distance(cont_arr, optio):\n",
    "    \n",
    "    max_arr, idx2, word = [], [], []\n",
    "    \n",
    "    for instances in range(len(cont_arr)):\n",
    "        max_arr.append(np.amax(cont_arr[instances]))\n",
    "    \n",
    "    for ind_val2 in range(len(max_arr)):\n",
    "        idx2.append(np.where(cont_arr[ind_val2] == max_arr[ind_val2]))\n",
    "    idx2 = np.asarray(idx2)\n",
    "\n",
    "    for i in range(len(optio)):\n",
    "            word.append(optio[i][idx2[i]])\n",
    "    \n",
    "    \n",
    "    return max_arr, word"
   ]
  },
  {
   "cell_type": "code",
   "execution_count": 6,
   "id": "f0d73485",
   "metadata": {},
   "outputs": [],
   "source": [
    "'''\n",
    "Cosine Distance Function\n",
    "'''\n",
    "\n",
    "def cal_cosine(quest, optio):    \n",
    "\n",
    "    cont_arr = []\n",
    "    \n",
    "    for i in range(len(quest)):\n",
    "        temp_arr = []\n",
    "        for j in range(len(optio[i])):\n",
    "            temp_arr.append(1 - (distance.cosine(dict_word_vectors[quest[i][0]] - dict_word_vectors[quest[i][2]], \\\n",
    "                                                dict_word_vectors[quest[i][1]] - dict_word_vectors[optio[i][j]])))\n",
    "        cont_arr.append(temp_arr)\n",
    "    \n",
    "    \n",
    "    max_arr, word = after_distance(cont_arr, optio)\n",
    "\n",
    "    return pd.DataFrame({\"Calculated\":word, \"Similarity\": max_arr, \"Actual\":ans_list})"
   ]
  },
  {
   "cell_type": "code",
   "execution_count": 7,
   "id": "5d5377b7",
   "metadata": {},
   "outputs": [],
   "source": [
    "'''\n",
    "Calulating Euclidean Function\n",
    "'''\n",
    "\n",
    "def cal_eucl(quest, optio):    \n",
    "\n",
    "    cont_arr = []\n",
    "    \n",
    "    for i in range(len(quest)):\n",
    "        temp_arr = []\n",
    "        for j in range(len(optio[i])):\n",
    "            temp_arr.append(1 - (distance.euclidean(dict_word_vectors[quest[i][0]] - dict_word_vectors[quest[i][2]], \\\n",
    "                                                dict_word_vectors[quest[i][1]] - dict_word_vectors[optio[i][j]])))\n",
    "        cont_arr.append(temp_arr)\n",
    "    \n",
    "    \n",
    "    max_arr, word = after_distance(cont_arr, optio)\n",
    "\n",
    "    return pd.DataFrame({\"Calculated\":word, \"Similarity\": max_arr, \"Actual\":ans_list})"
   ]
  },
  {
   "cell_type": "code",
   "execution_count": 8,
   "id": "b4d9a3c9",
   "metadata": {},
   "outputs": [],
   "source": [
    "'''\n",
    "Calculating Yule Funciton\n",
    "'''\n",
    "\n",
    "def cal_yule(quest, optio):    \n",
    "\n",
    "    cont_arr = []\n",
    "    \n",
    "    for i in range(len(quest)):\n",
    "        temp_arr = []\n",
    "        for j in range(len(optio[i])):\n",
    "            temp_arr.append(1 - (distance.yule(dict_word_vectors[quest[i][0]] - dict_word_vectors[quest[i][1]], \\\n",
    "                                                dict_word_vectors[quest[i][2]] - dict_word_vectors[optio[i][j]])))\n",
    "        cont_arr.append(temp_arr)\n",
    "    \n",
    "    \n",
    "    max_arr, word = after_distance(cont_arr, optio)\n",
    "\n",
    "    return pd.DataFrame({\"Calculated\":word, \"Similarity\": max_arr, \"Actual\":ans_list})"
   ]
  },
  {
   "cell_type": "markdown",
   "id": "31fe53b2",
   "metadata": {},
   "source": [
    "#### Calling Dataframes and List conversion"
   ]
  },
  {
   "cell_type": "code",
   "execution_count": 9,
   "id": "f9054926",
   "metadata": {},
   "outputs": [],
   "source": [
    "'''Create List'''\n",
    "\n",
    "def conv_list_que(df):\n",
    "    row_list = []\n",
    "    for idx, row in df.iterrows():\n",
    "        new_list = [row.A, row.B, row.C]\n",
    "        \n",
    "        row_list.append(new_list)\n",
    "    \n",
    "    return np.asarray(row_list)"
   ]
  },
  {
   "cell_type": "code",
   "execution_count": 10,
   "id": "899a5d79",
   "metadata": {},
   "outputs": [],
   "source": [
    "def conv_list_opt(df):\n",
    "    row_list = []\n",
    "    for idx, row in df.iterrows():\n",
    "        new_list = [row.A, row.B, row.C, row.D]\n",
    "        \n",
    "        row_list.append(new_list)\n",
    "    \n",
    "    return np.asarray(row_list)"
   ]
  },
  {
   "cell_type": "code",
   "execution_count": 11,
   "id": "950f80af",
   "metadata": {},
   "outputs": [],
   "source": [
    "que = pd.read_csv('Questions.csv', index_col=0)\n",
    "opt = pd.read_csv('Options.csv', index_col=0)\n",
    "answers = pd.read_csv('Answers.csv', index_col=0)\n",
    "\n",
    "que_list = conv_list_que(que)\n",
    "opt_list = conv_list_opt(opt)\n",
    "ans_list = list(answers.T)\n"
   ]
  },
  {
   "cell_type": "code",
   "execution_count": 12,
   "id": "989466fa",
   "metadata": {},
   "outputs": [
    {
     "data": {
      "text/html": [
       "<div>\n",
       "<style scoped>\n",
       "    .dataframe tbody tr th:only-of-type {\n",
       "        vertical-align: middle;\n",
       "    }\n",
       "\n",
       "    .dataframe tbody tr th {\n",
       "        vertical-align: top;\n",
       "    }\n",
       "\n",
       "    .dataframe thead th {\n",
       "        text-align: right;\n",
       "    }\n",
       "</style>\n",
       "<table border=\"1\" class=\"dataframe\">\n",
       "  <thead>\n",
       "    <tr style=\"text-align: right;\">\n",
       "      <th></th>\n",
       "      <th>Calculated</th>\n",
       "      <th>Similarity</th>\n",
       "      <th>Actual</th>\n",
       "    </tr>\n",
       "  </thead>\n",
       "  <tbody>\n",
       "    <tr>\n",
       "      <th>0</th>\n",
       "      <td>[[duck]]</td>\n",
       "      <td>0.469191</td>\n",
       "      <td>duck</td>\n",
       "    </tr>\n",
       "    <tr>\n",
       "      <th>1</th>\n",
       "      <td>[[jury]]</td>\n",
       "      <td>0.175288</td>\n",
       "      <td>squash</td>\n",
       "    </tr>\n",
       "    <tr>\n",
       "      <th>2</th>\n",
       "      <td>[[damage]]</td>\n",
       "      <td>0.617618</td>\n",
       "      <td>damage</td>\n",
       "    </tr>\n",
       "    <tr>\n",
       "      <th>3</th>\n",
       "      <td>[[ascent]]</td>\n",
       "      <td>0.644943</td>\n",
       "      <td>ascent</td>\n",
       "    </tr>\n",
       "    <tr>\n",
       "      <th>4</th>\n",
       "      <td>[[render]]</td>\n",
       "      <td>0.080540</td>\n",
       "      <td>render</td>\n",
       "    </tr>\n",
       "  </tbody>\n",
       "</table>\n",
       "</div>"
      ],
      "text/plain": [
       "   Calculated  Similarity  Actual\n",
       "0    [[duck]]    0.469191    duck\n",
       "1    [[jury]]    0.175288  squash\n",
       "2  [[damage]]    0.617618  damage\n",
       "3  [[ascent]]    0.644943  ascent\n",
       "4  [[render]]    0.080540  render"
      ]
     },
     "execution_count": 12,
     "metadata": {},
     "output_type": "execute_result"
    }
   ],
   "source": [
    "cal_dist = cal_cosine(que_list, opt_list)\n",
    "cal_dist"
   ]
  },
  {
   "cell_type": "code",
   "execution_count": 13,
   "id": "2d90c9c2",
   "metadata": {},
   "outputs": [
    {
     "data": {
      "text/html": [
       "<div>\n",
       "<style scoped>\n",
       "    .dataframe tbody tr th:only-of-type {\n",
       "        vertical-align: middle;\n",
       "    }\n",
       "\n",
       "    .dataframe tbody tr th {\n",
       "        vertical-align: top;\n",
       "    }\n",
       "\n",
       "    .dataframe thead th {\n",
       "        text-align: right;\n",
       "    }\n",
       "</style>\n",
       "<table border=\"1\" class=\"dataframe\">\n",
       "  <thead>\n",
       "    <tr style=\"text-align: right;\">\n",
       "      <th></th>\n",
       "      <th>Calculated</th>\n",
       "      <th>Similarity</th>\n",
       "      <th>Actual</th>\n",
       "    </tr>\n",
       "  </thead>\n",
       "  <tbody>\n",
       "    <tr>\n",
       "      <th>0</th>\n",
       "      <td>[[pine]]</td>\n",
       "      <td>-334.774017</td>\n",
       "      <td>duck</td>\n",
       "    </tr>\n",
       "    <tr>\n",
       "      <th>1</th>\n",
       "      <td>[[jury]]</td>\n",
       "      <td>-1010.695496</td>\n",
       "      <td>squash</td>\n",
       "    </tr>\n",
       "    <tr>\n",
       "      <th>2</th>\n",
       "      <td>[[outwit]]</td>\n",
       "      <td>-299.189636</td>\n",
       "      <td>damage</td>\n",
       "    </tr>\n",
       "    <tr>\n",
       "      <th>3</th>\n",
       "      <td>[[ascent]]</td>\n",
       "      <td>-225.864258</td>\n",
       "      <td>ascent</td>\n",
       "    </tr>\n",
       "    <tr>\n",
       "      <th>4</th>\n",
       "      <td>[[divide]]</td>\n",
       "      <td>-443.840820</td>\n",
       "      <td>render</td>\n",
       "    </tr>\n",
       "  </tbody>\n",
       "</table>\n",
       "</div>"
      ],
      "text/plain": [
       "   Calculated   Similarity  Actual\n",
       "0    [[pine]]  -334.774017    duck\n",
       "1    [[jury]] -1010.695496  squash\n",
       "2  [[outwit]]  -299.189636  damage\n",
       "3  [[ascent]]  -225.864258  ascent\n",
       "4  [[divide]]  -443.840820  render"
      ]
     },
     "execution_count": 13,
     "metadata": {},
     "output_type": "execute_result"
    }
   ],
   "source": [
    "cal_dist = cal_eucl(que_list, opt_list)\n",
    "cal_dist"
   ]
  },
  {
   "cell_type": "code",
   "execution_count": 14,
   "id": "2fd3370c",
   "metadata": {},
   "outputs": [
    {
     "data": {
      "text/html": [
       "<div>\n",
       "<style scoped>\n",
       "    .dataframe tbody tr th:only-of-type {\n",
       "        vertical-align: middle;\n",
       "    }\n",
       "\n",
       "    .dataframe tbody tr th {\n",
       "        vertical-align: top;\n",
       "    }\n",
       "\n",
       "    .dataframe thead th {\n",
       "        text-align: right;\n",
       "    }\n",
       "</style>\n",
       "<table border=\"1\" class=\"dataframe\">\n",
       "  <thead>\n",
       "    <tr style=\"text-align: right;\">\n",
       "      <th></th>\n",
       "      <th>Calculated</th>\n",
       "      <th>Similarity</th>\n",
       "      <th>Actual</th>\n",
       "    </tr>\n",
       "  </thead>\n",
       "  <tbody>\n",
       "    <tr>\n",
       "      <th>0</th>\n",
       "      <td>[[duck]]</td>\n",
       "      <td>0.007901</td>\n",
       "      <td>duck</td>\n",
       "    </tr>\n",
       "    <tr>\n",
       "      <th>1</th>\n",
       "      <td>[[squash]]</td>\n",
       "      <td>0.031432</td>\n",
       "      <td>squash</td>\n",
       "    </tr>\n",
       "    <tr>\n",
       "      <th>2</th>\n",
       "      <td>[[damage]]</td>\n",
       "      <td>0.762570</td>\n",
       "      <td>damage</td>\n",
       "    </tr>\n",
       "    <tr>\n",
       "      <th>3</th>\n",
       "      <td>[[ascent]]</td>\n",
       "      <td>4.681414</td>\n",
       "      <td>ascent</td>\n",
       "    </tr>\n",
       "    <tr>\n",
       "      <th>4</th>\n",
       "      <td>[[divide]]</td>\n",
       "      <td>0.103449</td>\n",
       "      <td>render</td>\n",
       "    </tr>\n",
       "  </tbody>\n",
       "</table>\n",
       "</div>"
      ],
      "text/plain": [
       "   Calculated  Similarity  Actual\n",
       "0    [[duck]]    0.007901    duck\n",
       "1  [[squash]]    0.031432  squash\n",
       "2  [[damage]]    0.762570  damage\n",
       "3  [[ascent]]    4.681414  ascent\n",
       "4  [[divide]]    0.103449  render"
      ]
     },
     "execution_count": 14,
     "metadata": {},
     "output_type": "execute_result"
    }
   ],
   "source": [
    "cal_dist = cal_yule(que_list, opt_list)\n",
    "cal_dist"
   ]
  },
  {
   "cell_type": "code",
   "execution_count": null,
   "id": "863e5ad6",
   "metadata": {},
   "outputs": [],
   "source": []
  }
 ],
 "metadata": {
  "kernelspec": {
   "display_name": "Python 3 (ipykernel)",
   "language": "python",
   "name": "python3"
  },
  "language_info": {
   "codemirror_mode": {
    "name": "ipython",
    "version": 3
   },
   "file_extension": ".py",
   "mimetype": "text/x-python",
   "name": "python",
   "nbconvert_exporter": "python",
   "pygments_lexer": "ipython3",
   "version": "3.9.15"
  }
 },
 "nbformat": 4,
 "nbformat_minor": 5
}
